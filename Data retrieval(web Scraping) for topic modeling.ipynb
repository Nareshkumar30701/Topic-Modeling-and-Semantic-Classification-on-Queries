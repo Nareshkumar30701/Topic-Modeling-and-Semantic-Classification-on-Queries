{
 "cells": [
  {
   "cell_type": "code",
   "execution_count": 1,
   "id": "9a13396c-c513-496b-b8e6-b7317122a13d",
   "metadata": {},
   "outputs": [],
   "source": [
    "import requests\n",
    "from bs4 import BeautifulSoup\n",
    "import time\n",
    "\n",
    "def get_questions(url):\n",
    "    questions = []\n",
    "    while len(questions) < 5000:\n",
    "        response = requests.get(url)\n",
    "        soup = BeautifulSoup(response.text, 'html.parser')\n",
    "        question_links = soup.select('#site-container section div a')\n",
    "        new_questions = [link.get_text(strip=True) for link in question_links if link.get_text(strip=True)]\n",
    "        questions.extend(new_questions)\n",
    "        time.sleep(2)\n",
    "\n",
    "    return questions[:5000]\n",
    "\n",
    "url = \"https://www.answers.com/\"\n",
    "questions = get_questions(url)\n",
    "\n",
    "# Print the questions\n",
    "#for i, question in enumerate(questions, start=1):\n",
    "    #print(f\"Question {i}: {question}\")"
   ]
  },
  {
   "cell_type": "code",
   "execution_count": 3,
   "id": "57a6d39c-0479-48ef-b9c2-86f22bc8eee9",
   "metadata": {},
   "outputs": [],
   "source": [
    "import mysql.connector\n",
    "\n",
    "def load_questions(questions):\n",
    "    conn = mysql.connector.connect(\n",
    "        host='127.0.0.1',\n",
    "        user='root', \n",
    "        passwd='Naresh@30701', \n",
    "        db='questions' \n",
    "    )\n",
    "    cur = conn.cursor()\n",
    "    \n",
    "#creating table\n",
    "    cur.execute(\"\"\"\n",
    "        CREATE TABLE IF NOT EXISTS Questions (\n",
    "            id INT AUTO_INCREMENT PRIMARY KEY,\n",
    "            question TEXT NOT NULL\n",
    "        )\n",
    "    \"\"\")\n",
    "\n",
    "    for question in questions:\n",
    "        cur.execute(\"INSERT INTO Questions (question) VALUES (%s)\", (question,))\n",
    "    conn.commit()\n",
    "    cur.close()\n",
    "    conn.close()\n",
    "\n",
    "load_questions(questions)\n"
   ]
  },
  {
   "cell_type": "code",
   "execution_count": null,
   "id": "e7675fed-050d-4129-b4f1-fc7fd1c88e20",
   "metadata": {},
   "outputs": [],
   "source": []
  }
 ],
 "metadata": {
  "kernelspec": {
   "display_name": "Python 3 (ipykernel)",
   "language": "python",
   "name": "python3"
  },
  "language_info": {
   "codemirror_mode": {
    "name": "ipython",
    "version": 3
   },
   "file_extension": ".py",
   "mimetype": "text/x-python",
   "name": "python",
   "nbconvert_exporter": "python",
   "pygments_lexer": "ipython3",
   "version": "3.11.7"
  }
 },
 "nbformat": 4,
 "nbformat_minor": 5
}
